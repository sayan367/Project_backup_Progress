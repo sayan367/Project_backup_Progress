{
 "cells": [
  {
   "cell_type": "code",
   "execution_count": 1,
   "id": "0338cef0-1643-4f80-b782-bf3f39d9615b",
   "metadata": {},
   "outputs": [],
   "source": [
    "import pandas as pd\n",
    "\n",
    "df_grouped = pd.read_csv('/Users/sayansarkar/Documents/Project/COVID-19-Analytics/Data/archive/full_grouped.csv')\n",
    "df_clean = pd.read_csv('/Users/sayansarkar/Documents/Project/COVID-19-Analytics/Data/archive/covid_19_clean_complete.csv')\n",
    "df_country_latest = pd.read_csv('/Users/sayansarkar/Documents/Project/COVID-19-Analytics/Data/archive/country_wise_latest.csv')\n",
    "df_day_wise = pd.read_csv('/Users/sayansarkar/Documents/Project/COVID-19-Analytics/Data/archive/day_wise.csv')\n",
    "df_worldometer = pd.read_csv('/Users/sayansarkar/Documents/Project/COVID-19-Analytics/Data/archive/worldometer_data.csv')\n"
   ]
  },
  {
   "cell_type": "code",
   "execution_count": 2,
   "id": "608faf03-4760-41cf-a89f-811baf006695",
   "metadata": {},
   "outputs": [
    {
     "name": "stdout",
     "output_type": "stream",
     "text": [
      "<class 'pandas.core.frame.DataFrame'>\n",
      "RangeIndex: 35156 entries, 0 to 35155\n",
      "Data columns (total 10 columns):\n",
      " #   Column          Non-Null Count  Dtype \n",
      "---  ------          --------------  ----- \n",
      " 0   Date            35156 non-null  object\n",
      " 1   Country/Region  35156 non-null  object\n",
      " 2   Confirmed       35156 non-null  int64 \n",
      " 3   Deaths          35156 non-null  int64 \n",
      " 4   Recovered       35156 non-null  int64 \n",
      " 5   Active          35156 non-null  int64 \n",
      " 6   New cases       35156 non-null  int64 \n",
      " 7   New deaths      35156 non-null  int64 \n",
      " 8   New recovered   35156 non-null  int64 \n",
      " 9   WHO Region      35156 non-null  object\n",
      "dtypes: int64(7), object(3)\n",
      "memory usage: 2.7+ MB\n"
     ]
    }
   ],
   "source": [
    "# display the basic info about the data frame\n",
    "df_grouped.info()"
   ]
  },
  {
   "cell_type": "code",
   "execution_count": 3,
   "id": "e1179f46-8879-404c-98c0-a88d700e2eb9",
   "metadata": {},
   "outputs": [
    {
     "name": "stdout",
     "output_type": "stream",
     "text": [
      "<class 'pandas.core.frame.DataFrame'>\n",
      "RangeIndex: 49068 entries, 0 to 49067\n",
      "Data columns (total 10 columns):\n",
      " #   Column          Non-Null Count  Dtype  \n",
      "---  ------          --------------  -----  \n",
      " 0   Province/State  14664 non-null  object \n",
      " 1   Country/Region  49068 non-null  object \n",
      " 2   Lat             49068 non-null  float64\n",
      " 3   Long            49068 non-null  float64\n",
      " 4   Date            49068 non-null  object \n",
      " 5   Confirmed       49068 non-null  int64  \n",
      " 6   Deaths          49068 non-null  int64  \n",
      " 7   Recovered       49068 non-null  int64  \n",
      " 8   Active          49068 non-null  int64  \n",
      " 9   WHO Region      49068 non-null  object \n",
      "dtypes: float64(2), int64(4), object(4)\n",
      "memory usage: 3.7+ MB\n"
     ]
    }
   ],
   "source": [
    "# display the basic info about the data frame\n",
    "df_clean.info()"
   ]
  },
  {
   "cell_type": "code",
   "execution_count": 4,
   "id": "1031145a-403d-4aff-86eb-3fa3b0f5cb7e",
   "metadata": {},
   "outputs": [
    {
     "name": "stdout",
     "output_type": "stream",
     "text": [
      "<class 'pandas.core.frame.DataFrame'>\n",
      "RangeIndex: 187 entries, 0 to 186\n",
      "Data columns (total 15 columns):\n",
      " #   Column                  Non-Null Count  Dtype  \n",
      "---  ------                  --------------  -----  \n",
      " 0   Country/Region          187 non-null    object \n",
      " 1   Confirmed               187 non-null    int64  \n",
      " 2   Deaths                  187 non-null    int64  \n",
      " 3   Recovered               187 non-null    int64  \n",
      " 4   Active                  187 non-null    int64  \n",
      " 5   New cases               187 non-null    int64  \n",
      " 6   New deaths              187 non-null    int64  \n",
      " 7   New recovered           187 non-null    int64  \n",
      " 8   Deaths / 100 Cases      187 non-null    float64\n",
      " 9   Recovered / 100 Cases   187 non-null    float64\n",
      " 10  Deaths / 100 Recovered  187 non-null    float64\n",
      " 11  Confirmed last week     187 non-null    int64  \n",
      " 12  1 week change           187 non-null    int64  \n",
      " 13  1 week % increase       187 non-null    float64\n",
      " 14  WHO Region              187 non-null    object \n",
      "dtypes: float64(4), int64(9), object(2)\n",
      "memory usage: 22.0+ KB\n"
     ]
    }
   ],
   "source": [
    "# display the basic info about the data frame\n",
    "df_country_latest.info()"
   ]
  },
  {
   "cell_type": "code",
   "execution_count": 5,
   "id": "d13dd7ea-c31d-4c70-b8a2-b53ba323e7b4",
   "metadata": {},
   "outputs": [
    {
     "name": "stdout",
     "output_type": "stream",
     "text": [
      "<class 'pandas.core.frame.DataFrame'>\n",
      "RangeIndex: 188 entries, 0 to 187\n",
      "Data columns (total 12 columns):\n",
      " #   Column                  Non-Null Count  Dtype  \n",
      "---  ------                  --------------  -----  \n",
      " 0   Date                    188 non-null    object \n",
      " 1   Confirmed               188 non-null    int64  \n",
      " 2   Deaths                  188 non-null    int64  \n",
      " 3   Recovered               188 non-null    int64  \n",
      " 4   Active                  188 non-null    int64  \n",
      " 5   New cases               188 non-null    int64  \n",
      " 6   New deaths              188 non-null    int64  \n",
      " 7   New recovered           188 non-null    int64  \n",
      " 8   Deaths / 100 Cases      188 non-null    float64\n",
      " 9   Recovered / 100 Cases   188 non-null    float64\n",
      " 10  Deaths / 100 Recovered  188 non-null    float64\n",
      " 11  No. of countries        188 non-null    int64  \n",
      "dtypes: float64(3), int64(8), object(1)\n",
      "memory usage: 17.8+ KB\n"
     ]
    }
   ],
   "source": [
    "# display the basic info about the data frame\n",
    "df_day_wise.info()"
   ]
  },
  {
   "cell_type": "code",
   "execution_count": 7,
   "id": "94af18f9-fb72-4bb6-8800-b92ba3b8eeca",
   "metadata": {},
   "outputs": [
    {
     "name": "stdout",
     "output_type": "stream",
     "text": [
      "<class 'pandas.core.frame.DataFrame'>\n",
      "RangeIndex: 209 entries, 0 to 208\n",
      "Data columns (total 16 columns):\n",
      " #   Column            Non-Null Count  Dtype  \n",
      "---  ------            --------------  -----  \n",
      " 0   Country/Region    209 non-null    object \n",
      " 1   Continent         208 non-null    object \n",
      " 2   Population        208 non-null    float64\n",
      " 3   TotalCases        209 non-null    int64  \n",
      " 4   NewCases          4 non-null      float64\n",
      " 5   TotalDeaths       188 non-null    float64\n",
      " 6   NewDeaths         3 non-null      float64\n",
      " 7   TotalRecovered    205 non-null    float64\n",
      " 8   NewRecovered      3 non-null      float64\n",
      " 9   ActiveCases       205 non-null    float64\n",
      " 10  Serious,Critical  122 non-null    float64\n",
      " 11  Tot Cases/1M pop  208 non-null    float64\n",
      " 12  Deaths/1M pop     187 non-null    float64\n",
      " 13  TotalTests        191 non-null    float64\n",
      " 14  Tests/1M pop      191 non-null    float64\n",
      " 15  WHO Region        184 non-null    object \n",
      "dtypes: float64(12), int64(1), object(3)\n",
      "memory usage: 26.3+ KB\n"
     ]
    }
   ],
   "source": [
    "# display the basic info about the data frame\n",
    "df_worldometer.info()"
   ]
  },
  {
   "cell_type": "code",
   "execution_count": 8,
   "id": "85571d0c-fec1-405b-af59-9ed2d8fdfb5b",
   "metadata": {},
   "outputs": [
    {
     "name": "stdout",
     "output_type": "stream",
     "text": [
      "\n",
      "Missing values in each column:\n",
      " Date              0\n",
      "Country/Region    0\n",
      "Confirmed         0\n",
      "Deaths            0\n",
      "Recovered         0\n",
      "Active            0\n",
      "New cases         0\n",
      "New deaths        0\n",
      "New recovered     0\n",
      "WHO Region        0\n",
      "dtype: int64\n"
     ]
    }
   ],
   "source": [
    "\n",
    "# Check for missing values for grouped data\n",
    "missing_values = df_grouped.isnull().sum()\n",
    "print(\"\\nMissing values in each column:\\n\", missing_values)\n"
   ]
  },
  {
   "cell_type": "code",
   "execution_count": 9,
   "id": "f69bafec-1538-41de-ba19-a2202c5ab5a6",
   "metadata": {},
   "outputs": [
    {
     "name": "stdout",
     "output_type": "stream",
     "text": [
      "\n",
      "Missing values in each column:\n",
      " Province/State    34404\n",
      "Country/Region        0\n",
      "Lat                   0\n",
      "Long                  0\n",
      "Date                  0\n",
      "Confirmed             0\n",
      "Deaths                0\n",
      "Recovered             0\n",
      "Active                0\n",
      "WHO Region            0\n",
      "dtype: int64\n"
     ]
    }
   ],
   "source": [
    "\n",
    "# Check for missing values for df_Clean\n",
    "missing_values = df_clean.isnull().sum()\n",
    "print(\"\\nMissing values in each column:\\n\", missing_values)"
   ]
  },
  {
   "cell_type": "code",
   "execution_count": 10,
   "id": "6c8a5eab-6381-41cd-bd47-f7fc508a72d7",
   "metadata": {},
   "outputs": [
    {
     "name": "stdout",
     "output_type": "stream",
     "text": [
      "\n",
      "Missing values in each column:\n",
      " Country/Region            0\n",
      "Confirmed                 0\n",
      "Deaths                    0\n",
      "Recovered                 0\n",
      "Active                    0\n",
      "New cases                 0\n",
      "New deaths                0\n",
      "New recovered             0\n",
      "Deaths / 100 Cases        0\n",
      "Recovered / 100 Cases     0\n",
      "Deaths / 100 Recovered    0\n",
      "Confirmed last week       0\n",
      "1 week change             0\n",
      "1 week % increase         0\n",
      "WHO Region                0\n",
      "dtype: int64\n"
     ]
    }
   ],
   "source": [
    "\n",
    "# Check for missing values for country_latest\n",
    "missing_values = df_country_latest.isnull().sum()\n",
    "print(\"\\nMissing values in each column:\\n\", missing_values)"
   ]
  },
  {
   "cell_type": "code",
   "execution_count": 11,
   "id": "5dc9b623-25c3-4ae3-b2dd-f404f27b8051",
   "metadata": {},
   "outputs": [
    {
     "name": "stdout",
     "output_type": "stream",
     "text": [
      "\n",
      "Missing values in each column:\n",
      " Date                      0\n",
      "Confirmed                 0\n",
      "Deaths                    0\n",
      "Recovered                 0\n",
      "Active                    0\n",
      "New cases                 0\n",
      "New deaths                0\n",
      "New recovered             0\n",
      "Deaths / 100 Cases        0\n",
      "Recovered / 100 Cases     0\n",
      "Deaths / 100 Recovered    0\n",
      "No. of countries          0\n",
      "dtype: int64\n"
     ]
    }
   ],
   "source": [
    "\n",
    "# Check for missing values for day_wise data\n",
    "missing_values = df_day_wise.isnull().sum()\n",
    "print(\"\\nMissing values in each column:\\n\", missing_values)"
   ]
  },
  {
   "cell_type": "code",
   "execution_count": 14,
   "id": "866d9a7e-4d60-425d-852a-05b4689b3bd4",
   "metadata": {},
   "outputs": [
    {
     "name": "stdout",
     "output_type": "stream",
     "text": [
      "\n",
      "Missing values in each column:\n",
      " Country/Region        0\n",
      "Continent             1\n",
      "Population            1\n",
      "TotalCases            0\n",
      "NewCases            205\n",
      "TotalDeaths          21\n",
      "NewDeaths           206\n",
      "TotalRecovered        4\n",
      "NewRecovered        206\n",
      "ActiveCases           4\n",
      "Serious,Critical     87\n",
      "Tot Cases/1M pop      1\n",
      "Deaths/1M pop        22\n",
      "TotalTests           18\n",
      "Tests/1M pop         18\n",
      "WHO Region           25\n",
      "dtype: int64\n"
     ]
    }
   ],
   "source": [
    "\n",
    "# Check for missing values for worldometer data\n",
    "missing_values = df_worldometer.isnull().sum()\n",
    "print(\"\\nMissing values in each column:\\n\", missing_values)"
   ]
  },
  {
   "cell_type": "code",
   "execution_count": 15,
   "id": "a56081a3-9864-4c9e-82ba-6029e9fbbdab",
   "metadata": {},
   "outputs": [],
   "source": [
    "# 1. Convert the 'Date' column to datetime type\n",
    "df_grouped['Date'] = pd.to_datetime(df_grouped['Date'], errors='coerce') "
   ]
  },
  {
   "cell_type": "code",
   "execution_count": 16,
   "id": "f1f58481-bf73-4ee1-9b5e-a7bb2bd2ac98",
   "metadata": {},
   "outputs": [
    {
     "name": "stdout",
     "output_type": "stream",
     "text": [
      "\n",
      "Rows with invalid dates:\n",
      " Empty DataFrame\n",
      "Columns: [Date, Country/Region, Confirmed, Deaths, Recovered, Active, New cases, New deaths, New recovered, WHO Region]\n",
      "Index: []\n"
     ]
    }
   ],
   "source": [
    "# Check for rows with invalid dates\n",
    "invalid_dates = df_grouped[df_grouped['Date'].isna()]\n",
    "print(f\"\\nRows with invalid dates:\\n {invalid_dates}\")"
   ]
  },
  {
   "cell_type": "code",
   "execution_count": 17,
   "id": "5be4fe2f-8d75-4001-870c-225207b793b7",
   "metadata": {},
   "outputs": [],
   "source": [
    "# Drop rows with invalid dates if any\n",
    "df_grouped = df_grouped.dropna(subset=['Date'])"
   ]
  },
  {
   "cell_type": "code",
   "execution_count": 18,
   "id": "45f1ff3b-f790-411a-aadc-105b812c6cf3",
   "metadata": {},
   "outputs": [
    {
     "name": "stdout",
     "output_type": "stream",
     "text": [
      "\n",
      "Negative values in numerical columns:\n",
      " Confirmed         0\n",
      "Deaths            0\n",
      "Recovered         0\n",
      "Active            2\n",
      "New cases         0\n",
      "New deaths       38\n",
      "New recovered    77\n",
      "dtype: int64\n"
     ]
    }
   ],
   "source": [
    "# 2. Check for negative values in numerical columns\n",
    "negative_values = df_grouped[['Confirmed', 'Deaths', 'Recovered', 'Active', 'New cases', 'New deaths', 'New recovered']].lt(0).sum()\n",
    "print(\"\\nNegative values in numerical columns:\\n\", negative_values)\n"
   ]
  },
  {
   "cell_type": "code",
   "execution_count": 22,
   "id": "7aefc4bf-9404-4e56-8695-892a57e291a3",
   "metadata": {},
   "outputs": [
    {
     "name": "stdout",
     "output_type": "stream",
     "text": [
      "\n",
      "Negative values after correction:\n",
      " Active           0\n",
      "New deaths       0\n",
      "New recovered    0\n",
      "dtype: int64\n"
     ]
    }
   ],
   "source": [
    "# Replace negative values with 0 for the specified columns using clip\n",
    "df_grouped[['Active', 'New deaths', 'New recovered']] = df_grouped[['Active', 'New deaths', 'New recovered']].clip(lower=0)\n",
    "# Verify the changes\n",
    "negative_values_after = df_grouped[['Active', 'New deaths', 'New recovered']].lt(0).sum()\n",
    "print(\"\\nNegative values after correction:\\n\", negative_values_after)"
   ]
  },
  {
   "cell_type": "code",
   "execution_count": 21,
   "id": "23bb7184-402b-4701-9669-937d24e67f15",
   "metadata": {},
   "outputs": [
    {
     "name": "stdout",
     "output_type": "stream",
     "text": [
      "\n",
      "Number of duplicate rows: 0\n"
     ]
    }
   ],
   "source": [
    "\n",
    "# 3. Check for duplicates and remove them\n",
    "duplicates = df_grouped.duplicated().sum()\n",
    "print(f\"\\nNumber of duplicate rows: {duplicates}\")"
   ]
  },
  {
   "cell_type": "code",
   "execution_count": 23,
   "id": "2d083bcf-1ffa-44fe-bb16-aad2270daa09",
   "metadata": {},
   "outputs": [],
   "source": [
    "\n",
    "# Drop duplicates\n",
    "df_grouped = df_grouped.drop_duplicates()"
   ]
  },
  {
   "cell_type": "code",
   "execution_count": 24,
   "id": "acbab79d-554f-49f4-af9e-db381d48adc2",
   "metadata": {},
   "outputs": [],
   "source": [
    "# 4. Outlier detection using the IQR method\n",
    "Q1 = df_grouped[['Confirmed', 'Deaths', 'Recovered', 'Active', 'New cases', 'New deaths', 'New recovered']].quantile(0.25)\n",
    "Q3 = df_grouped[['Confirmed', 'Deaths', 'Recovered', 'Active', 'New cases', 'New deaths', 'New recovered']].quantile(0.75)\n",
    "IQR = Q3 - Q1"
   ]
  },
  {
   "cell_type": "code",
   "execution_count": 25,
   "id": "eff5acd0-70ee-4c58-a6e3-55d587265a2c",
   "metadata": {},
   "outputs": [
    {
     "name": "stdout",
     "output_type": "stream",
     "text": [
      "\n",
      "Rows with potential outliers:\n",
      "             Date      Country/Region  Confirmed  Deaths  Recovered  Active  \\\n",
      "410   2020-01-24               China        920      26         36     858   \n",
      "597   2020-01-25               China       1406      42         39    1325   \n",
      "784   2020-01-26               China       2075      56         49    1970   \n",
      "971   2020-01-27               China       2877      82         58    2737   \n",
      "1158  2020-01-28               China       5509     131        101    5277   \n",
      "...          ...                 ...        ...     ...        ...     ...   \n",
      "35149 2020-07-27           Venezuela      15988     146       9959    5883   \n",
      "35151 2020-07-27  West Bank and Gaza      10621      78       3752    6791   \n",
      "35153 2020-07-27               Yemen       1691     483        833     375   \n",
      "35154 2020-07-27              Zambia       4552     140       2815    1597   \n",
      "35155 2020-07-27            Zimbabwe       2704      36        542    2126   \n",
      "\n",
      "       New cases  New deaths  New recovered             WHO Region  \n",
      "410          277           8              6        Western Pacific  \n",
      "597          486          16              3        Western Pacific  \n",
      "784          669          14             10        Western Pacific  \n",
      "971          802          26              9        Western Pacific  \n",
      "1158        2632          49             43        Western Pacific  \n",
      "...          ...         ...            ...                    ...  \n",
      "35149        525           4            213               Americas  \n",
      "35151        152           2              0  Eastern Mediterranean  \n",
      "35153         10           4             36  Eastern Mediterranean  \n",
      "35154         71           1            465                 Africa  \n",
      "35155        192           2             24                 Africa  \n",
      "\n",
      "[10521 rows x 10 columns]\n",
      "\n",
      "Data cleaned and saved as 'full_grouped_cleaned.csv'.\n"
     ]
    }
   ],
   "source": [
    "# Define outlier criteria (e.g., 1.5 * IQR beyond Q1 and Q3)\n",
    "outliers = ((df_grouped[['Confirmed', 'Deaths', 'Recovered', 'Active', 'New cases', 'New deaths', 'New recovered']] < (Q1 - 1.5 * IQR)) |\n",
    "            (df_grouped[['Confirmed', 'Deaths', 'Recovered', 'Active', 'New cases', 'New deaths', 'New recovered']] > (Q3 + 1.5 * IQR)))\n",
    "\n",
    "# Detect outliers\n",
    "outlier_rows = df_grouped[outliers.any(axis=1)]\n",
    "print(f\"\\nRows with potential outliers:\\n {outlier_rows}\")\n",
    "\n",
    "# Save the cleaned data to a new CSV file\n",
    "df_grouped.to_csv('/Users/sayansarkar/Documents/Project/COVID-19-Analytics/Data/archive/full_grouped_cleaned.csv', index=False)\n",
    "print(\"\\nData cleaned and saved as 'full_grouped_cleaned.csv'.\")\n"
   ]
  },
  {
   "cell_type": "code",
   "execution_count": null,
   "id": "e044ab1a-df2d-46f7-99a3-42d606d7c763",
   "metadata": {},
   "outputs": [],
   "source": []
  }
 ],
 "metadata": {
  "kernelspec": {
   "display_name": "Python [conda env:base] *",
   "language": "python",
   "name": "conda-base-py"
  },
  "language_info": {
   "codemirror_mode": {
    "name": "ipython",
    "version": 3
   },
   "file_extension": ".py",
   "mimetype": "text/x-python",
   "name": "python",
   "nbconvert_exporter": "python",
   "pygments_lexer": "ipython3",
   "version": "3.12.7"
  }
 },
 "nbformat": 4,
 "nbformat_minor": 5
}
